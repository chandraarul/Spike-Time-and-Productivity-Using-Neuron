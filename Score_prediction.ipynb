{
 "cells": [
  {
   "cell_type": "code",
   "execution_count": 5,
   "id": "8a84a7a6-463f-4811-8661-7c9557290302",
   "metadata": {},
   "outputs": [],
   "source": [
    "import pandas as pd\n",
    "import numpy as np\n",
    "import torch\n",
    "import torch.nn as nn\n",
    "import torch.optim as optim\n"
   ]
  },
  {
   "cell_type": "code",
   "execution_count": 7,
   "id": "77aa6909-a48c-4532-8f57-83e7ce3e96a2",
   "metadata": {},
   "outputs": [],
   "source": [
    "# Load dataset\n",
    "file_path = r\"C:\\Users\\user\\Desktop\\Task_Timing_Log_1000_Entries.xlsx\"\n",
    "df = pd.read_excel(file_path)\n"
   ]
  },
  {
   "cell_type": "code",
   "execution_count": 9,
   "id": "99ce391a-2b7c-4b12-bc58-802f23162013",
   "metadata": {},
   "outputs": [],
   "source": [
    "# Preprocess\n",
    "df['Start Time'] = pd.to_datetime(df['Start Time'])\n",
    "df['End Time'] = pd.to_datetime(df['End Time'])\n",
    "df['Duration'] = (df['End Time'] - df['Start Time']).dt.total_seconds() / 60.0\n",
    "df['Task Name'] = df['Task Name'].str.strip().str.lower()\n",
    "df = df.sort_values(by=['Task Name', 'Start Time'])\n",
    "df['Repetition'] = df.groupby('Task Name').cumcount() + 1\n"
   ]
  },
  {
   "cell_type": "code",
   "execution_count": 11,
   "id": "06a30f79-6a06-4393-b450-bbfdec5b0176",
   "metadata": {},
   "outputs": [],
   "source": [
    "# Map task name to ID\n",
    "task_to_id = {task: i for i, task in enumerate(df['Task Name'].unique())}\n",
    "df['Task ID'] = df['Task Name'].map(task_to_id)"
   ]
  },
  {
   "cell_type": "code",
   "execution_count": 13,
   "id": "0babb920-c11c-4c80-b702-7b2558586cf2",
   "metadata": {},
   "outputs": [],
   "source": [
    "# Feature matrix\n",
    "X = df[['Repetition', 'Duration', 'Task ID']].values.astype(np.float32)\n",
    "y = df['Quality Score'].values.astype(np.float32).reshape(-1, 1)\n"
   ]
  },
  {
   "cell_type": "code",
   "execution_count": 15,
   "id": "d27d90ea-67d4-48e1-ab9c-d504437feb30",
   "metadata": {},
   "outputs": [],
   "source": [
    "# Torch tensors\n",
    "X_tensor = torch.tensor(X)\n",
    "y_tensor = torch.tensor(y)\n",
    "\n"
   ]
  },
  {
   "cell_type": "code",
   "execution_count": 17,
   "id": "38e5f843-d113-441b-8a6d-ec645e1e2651",
   "metadata": {},
   "outputs": [],
   "source": [
    "# Neural Network\n",
    "class LearningModel(nn.Module):\n",
    "    def __init__(self):\n",
    "        super().__init__()\n",
    "        self.fc1 = nn.Linear(3, 12)\n",
    "        self.relu1 = nn.ReLU()\n",
    "        self.fc2 = nn.Linear(12, 8)\n",
    "        self.relu2 = nn.ReLU()\n",
    "        self.fc3 = nn.Linear(8, 1)\n",
    "    \n",
    "    def forward(self, x):\n",
    "        x = self.relu1(self.fc1(x))\n",
    "        x = self.relu2(self.fc2(x))\n",
    "        return self.fc3(x)\n",
    "\n"
   ]
  },
  {
   "cell_type": "code",
   "execution_count": 19,
   "id": "00b5569a-42bd-408e-8fa6-faf0c4b16098",
   "metadata": {},
   "outputs": [],
   "source": [
    "model = LearningModel()\n",
    "criterion = nn.MSELoss()\n",
    "optimizer = optim.Adam(model.parameters(), lr=0.01)\n"
   ]
  },
  {
   "cell_type": "code",
   "execution_count": 21,
   "id": "0211fea6-2b2c-4397-88e3-42d10f11bfe3",
   "metadata": {},
   "outputs": [],
   "source": [
    "# Simulate Synaptic Fatigue (diminishing returns)\n",
    "def fatigue_penalty(repetition):\n",
    "    return 1 / (1 + 0.05 * (repetition - 1) ** 2)\n"
   ]
  },
  {
   "cell_type": "code",
   "execution_count": 23,
   "id": "9a99699c-2e2b-4b02-a721-fa0da9953fb8",
   "metadata": {},
   "outputs": [
    {
     "name": "stdout",
     "output_type": "stream",
     "text": [
      "Epoch 0 Loss: 19.0533\n",
      "Epoch 50 Loss: 0.7294\n",
      "Epoch 100 Loss: 0.4918\n",
      "Epoch 150 Loss: 0.3490\n",
      "Epoch 200 Loss: 0.2935\n",
      "Epoch 250 Loss: 0.2616\n"
     ]
    }
   ],
   "source": [
    "# Training Loop\n",
    "losses = []\n",
    "for epoch in range(300):\n",
    "    model.train()\n",
    "    optimizer.zero_grad()\n",
    "    outputs = model(X_tensor)\n",
    "    penalties = torch.tensor(fatigue_penalty(X[:, 0]), dtype=torch.float32).reshape(-1, 1)\n",
    "    penalized_targets = y_tensor * penalties\n",
    "    loss = criterion(outputs, penalized_targets)\n",
    "    loss.backward()\n",
    "    optimizer.step()\n",
    "    losses.append(loss.item())\n",
    "    if epoch % 50 == 0:\n",
    "        print(f\"Epoch {epoch} Loss: {loss.item():.4f}\")\n",
    "\n"
   ]
  },
  {
   "cell_type": "code",
   "execution_count": 25,
   "id": "1eb6e1d2-9ffa-47ee-9b87-7e4c294496b4",
   "metadata": {},
   "outputs": [
    {
     "name": "stdout",
     "output_type": "stream",
     "text": [
      "\n",
      "🔍 Predict Quality Score:\n"
     ]
    },
    {
     "name": "stdin",
     "output_type": "stream",
     "text": [
      "Enter task name (or 'exit' to quit):  Study Math\n",
      "Enter repetition count (e.g., 3):  3\n",
      "Enter duration in minutes (e.g., 90):  90\n"
     ]
    },
    {
     "name": "stdout",
     "output_type": "stream",
     "text": [
      "📘 Predicted Quality Score for 'Study Math' (Attempt 3, 90.0 mins): 5.88\n",
      "\n",
      "🔍 Predict Quality Score:\n"
     ]
    },
    {
     "name": "stdin",
     "output_type": "stream",
     "text": [
      "Enter task name (or 'exit' to quit):  Revise Notes\n",
      "Enter repetition count (e.g., 3):  2\n",
      "Enter duration in minutes (e.g., 90):  15\n"
     ]
    },
    {
     "name": "stdout",
     "output_type": "stream",
     "text": [
      "📘 Predicted Quality Score for 'Revise Notes' (Attempt 2, 15.0 mins): 3.70\n",
      "\n",
      "🔍 Predict Quality Score:\n"
     ]
    },
    {
     "name": "stdin",
     "output_type": "stream",
     "text": [
      "Enter task name (or 'exit' to quit):  exit\n"
     ]
    }
   ],
   "source": [
    "# Predict\n",
    "model.eval()\n",
    "\n",
    "# ✅ User Input Prediction Loop\n",
    "while True:\n",
    "    print(\"\\n🔍 Predict Quality Score:\")\n",
    "    task_name = input(\"Enter task name (or 'exit' to quit): \").strip().lower()\n",
    "    if task_name == 'exit':\n",
    "        break\n",
    "\n",
    "    if task_name not in task_to_id:\n",
    "        print(\"❌ Unknown task name. Please try one from the dataset.\")\n",
    "        continue\n",
    "\n",
    "    try:\n",
    "        repetition = int(input(\"Enter repetition count (e.g., 3): \"))\n",
    "        duration = float(input(\"Enter duration in minutes (e.g., 90): \"))\n",
    "    except ValueError:\n",
    "        print(\"❌ Invalid input. Please enter numeric values for repetition and duration.\")\n",
    "        continue\n",
    "\n",
    "    task_id = task_to_id[task_name]\n",
    "    input_tensor = torch.tensor([[repetition, duration, float(task_id)]], dtype=torch.float32)\n",
    "    predicted_score = model(input_tensor).item()\n",
    "\n",
    "    print(f\"📘 Predicted Quality Score for '{task_name.title()}' (Attempt {repetition}, {duration:.1f} mins): {predicted_score:.2f}\")\n"
   ]
  },
  {
   "cell_type": "code",
   "execution_count": null,
   "id": "a7f81590-9aad-4884-b997-14b9dd1c5b7e",
   "metadata": {},
   "outputs": [],
   "source": []
  }
 ],
 "metadata": {
  "kernelspec": {
   "display_name": "Python 3 (ipykernel)",
   "language": "python",
   "name": "python3"
  },
  "language_info": {
   "codemirror_mode": {
    "name": "ipython",
    "version": 3
   },
   "file_extension": ".py",
   "mimetype": "text/x-python",
   "name": "python",
   "nbconvert_exporter": "python",
   "pygments_lexer": "ipython3",
   "version": "3.12.4"
  }
 },
 "nbformat": 4,
 "nbformat_minor": 5
}
